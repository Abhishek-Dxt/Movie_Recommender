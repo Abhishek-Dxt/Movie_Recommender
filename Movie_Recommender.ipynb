{
 "cells": [
  {
   "cell_type": "markdown",
   "metadata": {
    "id": "SyXcDsQbVExv"
   },
   "source": [
    "In this project, we build a **Recommender system** using the MovieLens Dataset.\n",
    "\n",
    "Given a name of the movie, the model should output the top 5 movies similar to that particular movie.\n",
    "\n",
    "First we would create a rating matrix and normalise it. \n",
    "Then, we weould compute the SVD (Singular value decomposition) of this normalised rating matrix.\n",
    "\n",
    "We will define a function that computes the cosine similarity between any two movies.\n",
    "And Based on that cosine similarity, we sort the movies which are most similar and return the top 5 movies that match a given a movie title."
   ]
  },
  {
   "cell_type": "code",
   "execution_count": 1,
   "metadata": {
    "id": "35l73b6_9CnS"
   },
   "outputs": [],
   "source": [
    "# Import all the required libraries\n",
    "\n",
    "import numpy as np\n",
    "import pandas as pd\n",
    "from numpy import dot"
   ]
  },
  {
   "cell_type": "markdown",
   "metadata": {
    "id": "HZnPUHzoPAMU"
   },
   "source": [
    "#### Read the Dataset from three files containing the ratings, movies and users info"
   ]
  },
  {
   "cell_type": "code",
   "execution_count": 2,
   "metadata": {
    "id": "TyjYlEGe9Fl9"
   },
   "outputs": [],
   "source": [
    "ratings_data = pd.read_csv('ratings.dat', delimiter = '::', names= ['userId','movieId','rating','timestamp'], engine='python')\n",
    "movies_data = pd.read_csv('movies.dat', delimiter = '::', names=['movieId', 'movie_title', 'genres'], engine='python', encoding = \"ISO-8859-1\");\n",
    "user_data = pd.read_csv('users.dat', delimiter = '::', names= ['userId','Gender','Age','Occupation','Zip-code'], engine='python')"
   ]
  },
  {
   "cell_type": "markdown",
   "metadata": {},
   "source": [
    "### Rating Matrix -\n",
    "\n",
    "The rows of the matrix are movies and columns will represent the users"
   ]
  },
  {
   "cell_type": "code",
   "execution_count": 3,
   "metadata": {
    "id": "NwfX3JoTPr_1"
   },
   "outputs": [],
   "source": [
    "rating_matrix = np.ndarray(shape=(np.max(ratings_data.movieId.to_numpy()), np.max(ratings_data.userId.to_numpy())), dtype=np.uint8)\n",
    "rating_matrix[ratings_data.movieId.to_numpy()-1,ratings_data.userId.to_numpy()-1] = ratings_data.rating.to_numpy()"
   ]
  },
  {
   "cell_type": "code",
   "execution_count": 4,
   "metadata": {
    "id": "W7IpKIkRP507"
   },
   "outputs": [],
   "source": [
    "# Normalise the raating matrix -\n",
    "\n",
    "temp_norm_matrix = (rating_matrix-rating_matrix.mean())/rating_matrix.std()\n",
    "normalised_matrix = temp_norm_matrix.T/np.sqrt(rating_matrix.shape[0]-1)"
   ]
  },
  {
   "cell_type": "markdown",
   "metadata": {},
   "source": [
    "### Singular Value Decomposition\n",
    "\n",
    "$$ \\mathbf {M} =\\mathbf {U\\Sigma V^{T}} $$\n",
    "\n",
    "SVD breaks down a normal matrix (linear transformation) into three fundamental parts: a left singular matrix (for rotation required to prepare the space for scaling), a diagonal matrix (for axis aligned scaling), and a right singular matrix (another rotation to move the now properly scaled space into it's ultimate rotational position)"
   ]
  },
  {
   "cell_type": "code",
   "execution_count": 5,
   "metadata": {
    "id": "UZ_jvrKKQDnq"
   },
   "outputs": [],
   "source": [
    "# To compute the SVD of the normalised matrix, we can use the svd function from np.linalg\n",
    "\n",
    "U,S,V = np.linalg.svd(normalised_matrix)"
   ]
  },
  {
   "cell_type": "markdown",
   "metadata": {
    "id": "Ezwmvv1VQhTK"
   },
   "source": [
    "### Cosine Similarity\n",
    "Now we compute the Cosine Similarity to find the similarity between any two movies. Mathematically the cosine similarity is given as follows: \n",
    "\n",
    "$$ cosine(x,y) = \\frac{x\\cdot y^T}{||x||\\cdot ||y||}  $$"
   ]
  },
  {
   "cell_type": "code",
   "execution_count": 6,
   "metadata": {},
   "outputs": [],
   "source": [
    "# Out of the U, S and V that we have obtained through SVD, V (Right Singular Matrix) is the one we'll use to determine the -\n",
    "# Cosine Similarity because V-Transpose represents the similarity between the items and the latent factors.\n",
    "# While finding cosine similarity (in the print function), we'll iterate through columns of V.T --\n",
    "column = V.transpose()[:,:500]  \n",
    "# The value 500 above represents the number of singular values I'm using and can be changed. \n",
    "# 500 gave me the closest output for Universal Soldier(id=2808) example.\n",
    "modulus = np.sqrt(np.einsum('ab,ab->a',column,column))"
   ]
  },
  {
   "cell_type": "code",
   "execution_count": 7,
   "metadata": {
    "id": "Ce9Np8IfruW9"
   },
   "outputs": [],
   "source": [
    "def print_top5_recommendations(movieId):\n",
    "    print('Top 5 Recommendations for '+movies_data[movies_data.movieId == movieId].movie_title.to_numpy()[0]+': \\n')\n",
    "    i = movieId - 1  # movie_id is one more than the index of that movie ([0] = 1. Toy Story)\n",
    "    r = column[i, :]  # from V.transpose column, here we get to the row of this particular movie\n",
    "    cos_sim = np.dot(r, column.T)/(modulus[i]*modulus)  # computing Cosine Similarity\n",
    "    descending_list = np.argsort(-(cos_sim))  # Sorting the list obtained in most similar to least similar order\n",
    "    top_five = descending_list[:6]  # the Top 5 similar movies\n",
    "    # Printing the similar movies, skipping the movie itself, because the most similar option will be the movie itself\n",
    "    for id in top_five+1:\n",
    "        if id == movieId:\n",
    "            pass\n",
    "        else:\n",
    "            print(movies_data[movies_data.movieId == id].movie_title.to_numpy()[0])"
   ]
  },
  {
   "cell_type": "markdown",
   "metadata": {
    "id": "ehGjsCqcYXo_"
   },
   "source": [
    "##### Get the top 5 recommendations given a title\n",
    "\n",
    "\n"
   ]
  },
  {
   "cell_type": "code",
   "execution_count": 8,
   "metadata": {},
   "outputs": [
    {
     "name": "stdout",
     "output_type": "stream",
     "text": [
      "Top 5 Recommendations for Universal Soldier (1992): \n",
      "\n",
      "Soldier (1998)\n",
      "Solo (1996)\n",
      "Universal Soldier: The Return (1999)\n",
      "Judge Dredd (1995)\n",
      "Timecop (1994)\n"
     ]
    }
   ],
   "source": [
    "print_top5_recommendations(2808) # 2808 is the id for Universal Soldier(1992)"
   ]
  }
 ],
 "metadata": {
  "colab": {
   "collapsed_sections": [],
   "name": "CS556HW2.ipynb",
   "provenance": []
  },
  "kernelspec": {
   "display_name": "Python 3",
   "language": "python",
   "name": "python3"
  },
  "language_info": {
   "codemirror_mode": {
    "name": "ipython",
    "version": 3
   },
   "file_extension": ".py",
   "mimetype": "text/x-python",
   "name": "python",
   "nbconvert_exporter": "python",
   "pygments_lexer": "ipython3",
   "version": "3.7.2"
  }
 },
 "nbformat": 4,
 "nbformat_minor": 1
}
